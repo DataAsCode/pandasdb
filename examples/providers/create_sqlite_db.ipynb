{
 "cells": [
  {
   "cell_type": "code",
   "execution_count": 1,
   "metadata": {
    "collapsed": false,
    "inputHidden": false,
    "outputHidden": false
   },
   "outputs": [],
   "source": [
    "import sys\n",
    "import sqlite3\n",
    "import pandas as pd\n",
    "import os\n",
    "from sqlalchemy import create_engine\n",
    "\n",
    "user_table = pd.read_csv(\"./data/user.csv\")\n",
    "info_table = pd.read_csv(\"./data/extra_info.csv\")\n",
    "db_conn = sqlite3.connect(\"./data/test.db\")\n",
    "\n",
    "type_mapper = {\n",
    "    \"int64\": \"INTEGER\",\n",
    "    \"object\": \"TEXT\",\n",
    "    \"float64\": \"REAL\"\n",
    "}"
   ]
  },
  {
   "cell_type": "markdown",
   "metadata": {},
   "source": [
    "# Create the User Table"
   ]
  },
  {
   "cell_type": "code",
   "execution_count": 2,
   "metadata": {},
   "outputs": [],
   "source": [
    "user_columns = list(zip(user_table.columns, list(map(lambda dt: type_mapper.get(str(dt)), user_table.dtypes))))\n",
    "sql = \"CREATE TABLE IF NOT EXISTS users ({})\".format(\", \".join(list(map(lambda column: \" \".join(column), user_columns))))\n",
    "db_conn.cursor().execute(sql)\n",
    "db_conn.commit()\n",
    "\n",
    "\"\"\"\n",
    "Populate the table\n",
    "\"\"\"\n",
    "engine = create_engine('sqlite:///./data/test.db', echo=False)\n",
    "user_table.to_sql('users', engine, if_exists='replace', index=False)"
   ]
  },
  {
   "cell_type": "markdown",
   "metadata": {},
   "source": [
    "# Create the Info Table"
   ]
  },
  {
   "cell_type": "code",
   "execution_count": 10,
   "metadata": {},
   "outputs": [],
   "source": [
    "info_columns = list(zip(info_table.columns, list(map(lambda dt: type_mapper.get(str(dt)), info_table.dtypes))))\n",
    "sql = \"CREATE TABLE IF NOT EXISTS info ({}, FOREIGN KEY(id) REFERENCES users(id))\".format(\", \".join(list(map(lambda column: \" \".join(column), info_columns))))\n",
    "db_conn.cursor().execute(sql)\n",
    "db_conn.commit()\n",
    "\n",
    "\"\"\"\n",
    "Populate the table\n",
    "\"\"\"\n",
    "engine = create_engine('sqlite:///./data/test.db', echo=False)\n",
    "info_table.to_sql('info', engine, if_exists='replace', index=False)"
   ]
  },
  {
   "cell_type": "code",
   "execution_count": null,
   "metadata": {},
   "outputs": [],
   "source": []
  },
  {
   "cell_type": "code",
   "execution_count": null,
   "metadata": {},
   "outputs": [],
   "source": []
  }
 ],
 "metadata": {
  "kernel_info": {
   "name": "python3"
  },
  "kernelspec": {
   "display_name": "Python 3",
   "language": "python",
   "name": "python3"
  },
  "language_info": {
   "codemirror_mode": {
    "name": "ipython",
    "version": 3
   },
   "file_extension": ".py",
   "mimetype": "text/x-python",
   "name": "python",
   "nbconvert_exporter": "python",
   "pygments_lexer": "ipython3",
   "version": "3.7.1"
  },
  "nteract": {
   "version": "0.12.3"
  }
 },
 "nbformat": 4,
 "nbformat_minor": 4
}
